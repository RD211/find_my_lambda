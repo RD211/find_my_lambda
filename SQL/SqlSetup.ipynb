{
    "cells": [
        {
            "attachments": {},
            "cell_type": "markdown",
            "metadata": {
                "azdata_cell_guid": "86f1bb51-d412-410d-99af-e8ae0d6f0b67"
            },
            "source": [
                "Database for Find my Lambda"
            ]
        },
        {
            "cell_type": "code",
            "execution_count": 23,
            "metadata": {
                "azdata_cell_guid": "3d853f3c-8c57-4a77-9669-03b54d7efb96",
                "language": "sql",
                "tags": []
            },
            "outputs": [
                {
                    "data": {
                        "text/html": [
                            "Commands completed successfully."
                        ]
                    },
                    "metadata": {},
                    "output_type": "display_data"
                },
                {
                    "data": {
                        "text/html": [
                            "Total execution time: 00:00:00.032"
                        ]
                    },
                    "metadata": {},
                    "output_type": "display_data"
                }
            ],
            "source": [
                "DROP TABLE IF EXISTS cached_results;\n",
                "DROP TABLE IF EXISTS fogs_lambdas;\n",
                "DROP TABLE IF EXISTS fogs;\n",
                "DROP TABLE IF EXISTS lambdas;\n",
                "\n",
                "CREATE TABLE lambdas(\n",
                "    id int IDENTITY(1,1) PRIMARY KEY CLUSTERED NOT NULL\n",
                "    , name NVARCHAR(50) NOT NULL\n",
                "    , description TEXT NOT NULL\n",
                "    , email NVARCHAR(200) NOT NULL\n",
                "    , programming_language NVARCHAR(30) NOT NULL \n",
                "    , code TEXT NOT NULL\n",
                "    , input_type NVARCHAR(500) NOT NULL\n",
                "    , return_type NVARCHAR(500) NOT NULL\n",
                "    , upload_date DATE NOT NULL\n",
                "    , times_used INT NOT NULL\n",
                "    , confirmed BIT NOT NULL\n",
                "    , verified BIT NOT NULL\n",
                "    , likes INT NOT NULL\n",
                "    , INDEX idx_lambdas_input_type (input_type)\n",
                ");\n",
                "\n",
                "CREATE TABLE fogs(\n",
                "    fog_id int IDENTITY(1,1) PRIMARY KEY CLUSTERED NOT NULL\n",
                "    , input_type NVARCHAR(500) NOT NULL\n",
                "    , return_type NVARCHAR(500) NOT NULL\n",
                "    , member_count INT NOT NULL\n",
                "    , times_used INT NOT NULL\n",
                ");\n",
                "\n",
                "CREATE TABLE fogs_lambdas(\n",
                "    fog_id int NOT NULL\n",
                "    , lambda_id int NOT NULL\n",
                "    , position int NOT NULL\n",
                "    , PRIMARY KEY(fog_id, position)\n",
                "    , CONSTRAINT fk_lambdas\n",
                "    FOREIGN KEY (lambda_id)\n",
                "    REFERENCES lambdas(id)\n",
                "    , CONSTRAINT fk_fogs\n",
                "    FOREIGN KEY (fog_id)\n",
                "    REFERENCES fogs(fog_id)\n",
                ");\n",
                "\n",
                "CREATE TABLE cached_results(\n",
                "    fog_id int NOT NULL\n",
                "    , input VARCHAR(896) NOT NULL\n",
                "    , result VARCHAR(896) NOT NULL\n",
                "    , PRIMARY KEY(fog_id, input)\n",
                "    , INDEX idx_cached_results (input)\n",
                ");"
            ]
        },
        {
            "attachments": {},
            "cell_type": "markdown",
            "metadata": {
                "azdata_cell_guid": "b4dafb04-82ce-4b79-9e27-2cb9e0452a79"
            },
            "source": [
                "Insert some default data"
            ]
        },
        {
            "cell_type": "code",
            "execution_count": 24,
            "metadata": {
                "azdata_cell_guid": "1ae018e0-789c-4a8c-812a-6c7f3662ff07",
                "language": "sql",
                "tags": []
            },
            "outputs": [
                {
                    "data": {
                        "text/html": [
                            "(1 row affected)"
                        ]
                    },
                    "metadata": {},
                    "output_type": "display_data"
                },
                {
                    "data": {
                        "text/html": [
                            "(1 row affected)"
                        ]
                    },
                    "metadata": {},
                    "output_type": "display_data"
                },
                {
                    "data": {
                        "text/html": [
                            "Total execution time: 00:00:00.017"
                        ]
                    },
                    "metadata": {},
                    "output_type": "display_data"
                },
                {
                    "data": {
                        "application/vnd.dataresource+json": {
                            "data": [
                                {
                                    "0": "1",
                                    "1": "Get first from tuple function",
                                    "2": "Gets the first element of a tuple.",
                                    "3": "david@david.david",
                                    "4": "C#",
                                    "5": "using System;\\npublic class Lambda{\\n    public int lambda((int,int) a) {\\n        return a.Item1;\\n    }\\n}",
                                    "6": "((int,int))",
                                    "7": "(int)",
                                    "8": "2017-06-15",
                                    "9": "0",
                                    "10": "0",
                                    "11": "0",
                                    "12": "0"
                                }
                            ],
                            "schema": {
                                "fields": [
                                    {
                                        "name": "id"
                                    },
                                    {
                                        "name": "name"
                                    },
                                    {
                                        "name": "description"
                                    },
                                    {
                                        "name": "email"
                                    },
                                    {
                                        "name": "programming_language"
                                    },
                                    {
                                        "name": "code"
                                    },
                                    {
                                        "name": "input_type"
                                    },
                                    {
                                        "name": "return_type"
                                    },
                                    {
                                        "name": "upload_date"
                                    },
                                    {
                                        "name": "times_used"
                                    },
                                    {
                                        "name": "confirmed"
                                    },
                                    {
                                        "name": "verified"
                                    },
                                    {
                                        "name": "likes"
                                    }
                                ]
                            }
                        },
                        "text/html": [
                            "<table>\n",
                            "<tr><th>id</th><th>name</th><th>description</th><th>email</th><th>programming_language</th><th>code</th><th>input_type</th><th>return_type</th><th>upload_date</th><th>times_used</th><th>confirmed</th><th>verified</th><th>likes</th></tr>\n",
                            "<tr><td>1</td><td>Get first from tuple function</td><td>Gets the first element of a tuple.</td><td>david@david.david</td><td>C#</td><td>using System;\\npublic class Lambda{\\n    public int lambda((int,int) a) {\\n        return a.Item1;\\n    }\\n}</td><td>((int,int))</td><td>(int)</td><td>2017-06-15</td><td>0</td><td>0</td><td>0</td><td>0</td></tr>\n",
                            "</table>"
                        ]
                    },
                    "execution_count": 24,
                    "metadata": {},
                    "output_type": "execute_result"
                }
            ],
            "source": [
                "INSERT INTO lambdas(name, description, email, programming_language, code, input_type, return_type, upload_date, times_used, confirmed, verified, likes) VALUES(\n",
                "    'Get first from tuple function',\n",
                "    'Gets the first element of a tuple.',\n",
                "    'david@david.david',\n",
                "    'C#',\n",
                "    'using System;public class Lambda{    public int lambda((int,int) a) {        return a.Item1;    }}',\n",
                "    '((int,int))',\n",
                "    '(int)',\n",
                "    '2017-06-15',\n",
                "    0,\n",
                "    0,\n",
                "    0,\n",
                "    0\n",
                ")\n",
                "\n",
                "SELECT * FROM lambdas;"
            ]
        },
        {
            "cell_type": "code",
            "execution_count": 25,
            "metadata": {
                "azdata_cell_guid": "6ed56b3e-c5be-4554-aaa1-d580e955b1f9",
                "language": "sql",
                "tags": []
            },
            "outputs": [
                {
                    "data": {
                        "text/html": [
                            "(1 row affected)"
                        ]
                    },
                    "metadata": {},
                    "output_type": "display_data"
                },
                {
                    "data": {
                        "text/html": [
                            "Total execution time: 00:00:00.006"
                        ]
                    },
                    "metadata": {},
                    "output_type": "display_data"
                }
            ],
            "source": [
                "INSERT INTO fogs(input_type, return_type, member_count, times_used) VALUES(\n",
                "    '((int,int))',\n",
                "    '(int)',\n",
                "    1,\n",
                "    0\n",
                ");"
            ]
        },
        {
            "cell_type": "code",
            "execution_count": 26,
            "metadata": {
                "azdata_cell_guid": "9dbb3b6a-ad7d-4314-8c83-97487c06506d",
                "language": "sql"
            },
            "outputs": [
                {
                    "data": {
                        "text/html": [
                            "(1 row affected)"
                        ]
                    },
                    "metadata": {},
                    "output_type": "display_data"
                },
                {
                    "data": {
                        "text/html": [
                            "Total execution time: 00:00:00.007"
                        ]
                    },
                    "metadata": {},
                    "output_type": "display_data"
                }
            ],
            "source": [
                "INSERT INTO fogs_lambdas(fog_id, lambda_id, position) VALUES(\n",
                "    1,\n",
                "    1,\n",
                "    0\n",
                ");"
            ]
        },
        {
            "cell_type": "code",
            "execution_count": 27,
            "metadata": {
                "azdata_cell_guid": "0cf29a1c-605c-4616-9603-a6cb5e34c132",
                "language": "sql",
                "tags": []
            },
            "outputs": [
                {
                    "data": {
                        "text/html": [
                            "(1 row affected)"
                        ]
                    },
                    "metadata": {},
                    "output_type": "display_data"
                },
                {
                    "data": {
                        "text/html": [
                            "(1 row affected)"
                        ]
                    },
                    "metadata": {},
                    "output_type": "display_data"
                },
                {
                    "data": {
                        "text/html": [
                            "Total execution time: 00:00:00.007"
                        ]
                    },
                    "metadata": {},
                    "output_type": "display_data"
                },
                {
                    "data": {
                        "application/vnd.dataresource+json": {
                            "data": [
                                {
                                    "0": "1",
                                    "1": "((5,6))",
                                    "2": "(5)"
                                }
                            ],
                            "schema": {
                                "fields": [
                                    {
                                        "name": "fog_id"
                                    },
                                    {
                                        "name": "input"
                                    },
                                    {
                                        "name": "result"
                                    }
                                ]
                            }
                        },
                        "text/html": [
                            "<table>\n",
                            "<tr><th>fog_id</th><th>input</th><th>result</th></tr>\n",
                            "<tr><td>1</td><td>((5,6))</td><td>(5)</td></tr>\n",
                            "</table>"
                        ]
                    },
                    "execution_count": 27,
                    "metadata": {},
                    "output_type": "execute_result"
                }
            ],
            "source": [
                "INSERT INTO cached_results(fog_id, input, result) VALUES(\n",
                "    1,\n",
                "    '((5,6))',\n",
                "    '(5)'\n",
                ")\n",
                "SELECT * FROM cached_results;"
            ]
        }
    ],
    "metadata": {
        "kernelspec": {
            "display_name": "SQL",
            "language": "sql",
            "name": "SQL"
        },
        "language_info": {
            "name": "sql",
            "version": ""
        }
    },
    "nbformat": 4,
    "nbformat_minor": 2
}
