{
    "metadata": {
        "kernelspec": {
            "name": "SQL",
            "display_name": "SQL",
            "language": "sql"
        },
        "language_info": {
            "name": "sql",
            "version": ""
        }
    },
    "nbformat_minor": 2,
    "nbformat": 4,
    "cells": [
        {
            "cell_type": "markdown",
            "source": [
                "Database for Find my Lambda"
            ],
            "metadata": {
                "azdata_cell_guid": "86f1bb51-d412-410d-99af-e8ae0d6f0b67"
            },
            "attachments": {}
        },
        {
            "cell_type": "code",
            "source": [
                "DROP TABLE IF EXISTS cached_results;\n",
                "DROP TABLE IF EXISTS lambdas;\n",
                "\n",
                "CREATE TABLE lambdas(\n",
                "    id int IDENTITY(1,1) PRIMARY KEY CLUSTERED NOT NULL\n",
                "    , name NVARCHAR(50) NOT NULL\n",
                "    , description TEXT NOT NULL\n",
                "    , email NVARCHAR(200) NOT NULL\n",
                "    , programming_language NVARCHAR(30) NOT NULL \n",
                "    , code TEXT NOT NULL\n",
                "    , input_type NVARCHAR(500) NOT NULL\n",
                "    , return_type NVARCHAR(500) NOT NULL\n",
                "    , upload_date DATE NOT NULL\n",
                "    , times_used INT NOT NULL\n",
                "    , confirmed BIT NOT NULL\n",
                "    , verified BIT NOT NULL\n",
                "    , likes INT NOT NULL\n",
                "    , INDEX idx_lambdas_input_type (input_type)\n",
                ");\n",
                "\n",
                "CREATE TABLE cached_results(\n",
                "    lambda_id int NOT NULL\n",
                "    , input VARCHAR(896) NOT NULL\n",
                "    , result VARCHAR(2000) NOT NULL\n",
                "    , PRIMARY KEY(lambda_id, input)\n",
                "    , CONSTRAINT fk_cached_results\n",
                "    FOREIGN KEY (lambda_id)\n",
                "    REFERENCES lambdas(id)\n",
                ")"
            ],
            "metadata": {
                "azdata_cell_guid": "3d853f3c-8c57-4a77-9669-03b54d7efb96",
                "language": "sql",
                "tags": []
            },
            "outputs": [
                {
                    "output_type": "display_data",
                    "data": {
                        "text/html": "Commands completed successfully."
                    },
                    "metadata": {}
                },
                {
                    "output_type": "display_data",
                    "data": {
                        "text/html": "Total execution time: 00:00:00.017"
                    },
                    "metadata": {}
                }
            ],
            "execution_count": 11
        },
        {
            "cell_type": "markdown",
            "source": [
                "Insert some default data"
            ],
            "metadata": {
                "azdata_cell_guid": "b4dafb04-82ce-4b79-9e27-2cb9e0452a79"
            },
            "attachments": {}
        },
        {
            "cell_type": "code",
            "source": [
                "INSERT INTO lambdas(name, description, email, programming_language, code, input_type, return_type, upload_date, times_used, confirmed, verified, likes) VALUES(\n",
                "    'Get first from tuple function',\n",
                "    'Gets the first element of a tuple.',\n",
                "    'david@david.david',\n",
                "    'C#',\n",
                "    'using System;\\npublic class Lambda{\\n    public int lambda((int,int) a) {\\n        return a.Item1;\\n    }\\n}',\n",
                "    '(int,int)',\n",
                "    'int',\n",
                "    '2017-06-15',\n",
                "    0,\n",
                "    0,\n",
                "    0,\n",
                "    0\n",
                ")\n",
                "\n",
                "SELECT * FROM lambdas;"
            ],
            "metadata": {
                "azdata_cell_guid": "1ae018e0-789c-4a8c-812a-6c7f3662ff07",
                "language": "sql",
                "tags": []
            },
            "outputs": [
                {
                    "output_type": "display_data",
                    "data": {
                        "text/html": "(1 row affected)"
                    },
                    "metadata": {}
                },
                {
                    "output_type": "display_data",
                    "data": {
                        "text/html": "(1 row affected)"
                    },
                    "metadata": {}
                },
                {
                    "output_type": "display_data",
                    "data": {
                        "text/html": "Total execution time: 00:00:00.012"
                    },
                    "metadata": {}
                },
                {
                    "output_type": "execute_result",
                    "metadata": {},
                    "execution_count": 13,
                    "data": {
                        "application/vnd.dataresource+json": {
                            "schema": {
                                "fields": [
                                    {
                                        "name": "id"
                                    },
                                    {
                                        "name": "name"
                                    },
                                    {
                                        "name": "description"
                                    },
                                    {
                                        "name": "email"
                                    },
                                    {
                                        "name": "programming_language"
                                    },
                                    {
                                        "name": "code"
                                    },
                                    {
                                        "name": "input_type"
                                    },
                                    {
                                        "name": "return_type"
                                    },
                                    {
                                        "name": "upload_date"
                                    },
                                    {
                                        "name": "times_used"
                                    },
                                    {
                                        "name": "confirmed"
                                    },
                                    {
                                        "name": "verified"
                                    },
                                    {
                                        "name": "likes"
                                    }
                                ]
                            },
                            "data": [
                                {
                                    "0": "1",
                                    "1": "Get first from tuple function",
                                    "2": "Gets the first element of a tuple.",
                                    "3": "david@david.david",
                                    "4": "C#",
                                    "5": "using System;\\npublic class Lambda{\\n    public int lambda((int,int) a) {\\n        return a.Item1;\\n    }\\n}",
                                    "6": "(int,int)",
                                    "7": "int",
                                    "8": "2017-06-15",
                                    "9": "0",
                                    "10": "0",
                                    "11": "0",
                                    "12": "0"
                                }
                            ]
                        },
                        "text/html": [
                            "<table>",
                            "<tr><th>id</th><th>name</th><th>description</th><th>email</th><th>programming_language</th><th>code</th><th>input_type</th><th>return_type</th><th>upload_date</th><th>times_used</th><th>confirmed</th><th>verified</th><th>likes</th></tr>",
                            "<tr><td>1</td><td>Get first from tuple function</td><td>Gets the first element of a tuple.</td><td>david@david.david</td><td>C#</td><td>using System;\\npublic class Lambda{\\n    public int lambda((int,int) a) {\\n        return a.Item1;\\n    }\\n}</td><td>(int,int)</td><td>int</td><td>2017-06-15</td><td>0</td><td>0</td><td>0</td><td>0</td></tr>",
                            "</table>"
                        ]
                    }
                }
            ],
            "execution_count": 13
        },
        {
            "cell_type": "code",
            "source": [
                "INSERT INTO cached_results(lambda_id, input, result) VALUES(\n",
                "    1,\n",
                "    '(5,6)',\n",
                "    '5'\n",
                ")\n",
                "SELECT * FROM cached_results;"
            ],
            "metadata": {
                "azdata_cell_guid": "0cf29a1c-605c-4616-9603-a6cb5e34c132",
                "language": "sql",
                "tags": []
            },
            "outputs": [
                {
                    "output_type": "display_data",
                    "data": {
                        "text/html": "(1 row affected)"
                    },
                    "metadata": {}
                },
                {
                    "output_type": "display_data",
                    "data": {
                        "text/html": "(1 row affected)"
                    },
                    "metadata": {}
                },
                {
                    "output_type": "display_data",
                    "data": {
                        "text/html": "Total execution time: 00:00:00.010"
                    },
                    "metadata": {}
                },
                {
                    "output_type": "execute_result",
                    "metadata": {},
                    "execution_count": 14,
                    "data": {
                        "application/vnd.dataresource+json": {
                            "schema": {
                                "fields": [
                                    {
                                        "name": "lambda_id"
                                    },
                                    {
                                        "name": "input"
                                    },
                                    {
                                        "name": "result"
                                    }
                                ]
                            },
                            "data": [
                                {
                                    "0": "1",
                                    "1": "(5,6)",
                                    "2": "5"
                                }
                            ]
                        },
                        "text/html": [
                            "<table>",
                            "<tr><th>lambda_id</th><th>input</th><th>result</th></tr>",
                            "<tr><td>1</td><td>(5,6)</td><td>5</td></tr>",
                            "</table>"
                        ]
                    }
                }
            ],
            "execution_count": 14
        }
    ]
}